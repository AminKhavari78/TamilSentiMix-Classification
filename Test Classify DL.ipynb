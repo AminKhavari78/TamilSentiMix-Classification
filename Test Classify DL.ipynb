{
  "cells": [
    {
      "cell_type": "markdown",
      "source": [
        "#import modules"
      ],
      "metadata": {
        "id": "O_8-h86FoNCL"
      }
    },
    {
      "cell_type": "code",
      "source": [
        "import pandas as pd\n",
        "import numpy as np\n",
        "import tensorflow as tf\n",
        "from tensorflow import keras\n",
        "from tensorflow.keras import layers\n",
        "import matplotlib.pyplot as plt\n",
        "import pandas as pd\n",
        "from sklearn.model_selection import train_test_split\n",
        "from sklearn.feature_extraction.text import TfidfVectorizer\n",
        "import re\n",
        "import string\n"
      ],
      "metadata": {
        "id": "u86mxAWAoN4u"
      },
      "execution_count": 1,
      "outputs": []
    },
    {
      "cell_type": "markdown",
      "source": [
        "#Loading and preprocessing the data"
      ],
      "metadata": {
        "id": "18uHdBnnobdq"
      }
    },
    {
      "cell_type": "code",
      "source": [
        "df = pd.read_csv('Tamil_first_ready_for_sentiment.csv', sep='\\t')\n",
        "df.rename(columns = {'Negative ':'sentiment',\n",
        "                              ' Enna da ellam avan seyal  Mari iruku':'comment'},\n",
        "                              inplace = True)\n",
        "\n",
        "#change the value of positive and negative and mixfelling to 0 1 2\n",
        "df['sentiment'] = df.sentiment.str.replace('Negative', '0')\n",
        "df['sentiment'] = df.sentiment.str.replace('Positive', '1')\n",
        "df['sentiment'] = df.sentiment.str.replace('Mixed_feelings', '2')\n",
        "\n",
        "\n",
        "import string\n",
        "\n",
        "#defining the function to remove punctuation\n",
        "def remove_punctuation(text):\n",
        "    \n",
        "    punctuationfree=\"\".join([i for i in text if i not in string.punctuation])\n",
        "    return punctuationfree\n",
        "\n",
        "#storing the puntuation free text\n",
        "df['clean_comment']= df['comment'].apply(lambda x:remove_punctuation(x))\n",
        "\n",
        "df.head()\n",
        "\n",
        "df['comment_lower']= df['clean_comment'].apply(lambda x: x.lower())\n",
        "\n",
        "#defining function for tokenization\n",
        "import re\n",
        "def tokenization(text):\n",
        "    tokens = re.split('W+',text)\n",
        "    return tokens\n",
        "#applying function to the column\n",
        "df['comment_tokenied'] = df['comment_lower'].apply(lambda x: tokenization(x))\n",
        "\n",
        "df['comment_tokenied'][:5]\n",
        "\n",
        "import nltk\n",
        "\n",
        "nltk.download('stopwords')\n",
        "stopwords = nltk.corpus.stopwords.words('english')\n",
        "\n",
        "#defining the function to remove stopwords from tokenized text\n",
        "def remove_stopwords(text):\n",
        "    output= [i for i in text if i not in stopwords]\n",
        "    return output\n",
        "\n",
        "df['no_stopwords']= df['comment_tokenied'].apply(lambda x:remove_stopwords(x))\n",
        "\n",
        "#importing the Stemming function from nltk library\n",
        "from nltk.stem.porter import PorterStemmer\n",
        "#defining the object for stemming\n",
        "porter_stemmer = PorterStemmer()\n",
        "\n",
        "#defining a function for stemming\n",
        "def stemming(text):\n",
        "  stem_text = [porter_stemmer.stem(word) for word in text]\n",
        "  return stem_text\n",
        "\n",
        "df['comment_stemmed'] = df['no_stopwords'].apply(lambda x: stemming(x))\n",
        "\n",
        "from nltk.stem import WordNetLemmatizer\n",
        "nltk.download('wordnet')\n",
        "nltk.download('omw-1.4')\n",
        "#defining the object for Lemmatization\n",
        "wordnet_lemmatizer = WordNetLemmatizer()\n",
        "\n",
        "#defining the function for lemmatization\n",
        "def lemmatizer(text):\n",
        "  lemm_text = [wordnet_lemmatizer.lemmatize(word) for word in text]\n",
        "  return lemm_text\n",
        "\n",
        "\n",
        "# Python program to convert a list to string\n",
        "def listToString(s):\n",
        "\n",
        "\t# initialize an empty string\n",
        "\tstr1 = \"\"\n",
        "\n",
        "\t# traverse in the string\n",
        "\tfor ele in s:\n",
        "\t\tstr1 += ele\n",
        "\n",
        "\t# return string\n",
        "\treturn str1  \n",
        "\n",
        "df['comment_lemmatized'] = df['no_stopwords'].apply(lambda x:lemmatizer(x))\n",
        "df['comment_lemmatized_new']= df['comment_lemmatized'].apply(lambda x: listToString(x))\n",
        "\n",
        "\n",
        "\n",
        "X = df['comment_lemmatized_new']\n",
        "y = df['sentiment']\n",
        "df.head()"
      ],
      "metadata": {
        "id": "cWIDcjWIocwW",
        "outputId": "ece7352b-bd03-4733-fc36-af3fdc2879a2",
        "colab": {
          "base_uri": "https://localhost:8080/",
          "height": 629
        }
      },
      "execution_count": 32,
      "outputs": [
        {
          "output_type": "stream",
          "name": "stderr",
          "text": [
            "[nltk_data] Downloading package stopwords to /root/nltk_data...\n",
            "[nltk_data]   Package stopwords is already up-to-date!\n",
            "[nltk_data] Downloading package wordnet to /root/nltk_data...\n",
            "[nltk_data]   Package wordnet is already up-to-date!\n",
            "[nltk_data] Downloading package omw-1.4 to /root/nltk_data...\n",
            "[nltk_data]   Package omw-1.4 is already up-to-date!\n"
          ]
        },
        {
          "output_type": "execute_result",
          "data": {
            "text/plain": [
              "  sentiment                                            comment  \\\n",
              "0        0           This movei is just like  ellam avan seyal   \n",
              "1        1    Padam vanthathum 13k dislike pottavaga yellam...   \n",
              "2        1     Neraya neraya neraya... ... V era level...thala   \n",
              "3        1    wow thavala sema mass....padam oru pundaikum ...   \n",
              "4        0    Andha 19 k unlike panavangaluku kolandha pora...   \n",
              "\n",
              "                                       clean_comment  \\\n",
              "0          This movei is just like  ellam avan seyal   \n",
              "1   Padam vanthathum 13k dislike pottavaga yellam...   \n",
              "2             Neraya neraya neraya  V era levelthala   \n",
              "3   wow thavala sema masspadam oru pundaikum aagathu   \n",
              "4   Andha 19 k unlike panavangaluku kolandha pora...   \n",
              "\n",
              "                                       comment_lower  \\\n",
              "0          this movei is just like  ellam avan seyal   \n",
              "1   padam vanthathum 13k dislike pottavaga yellam...   \n",
              "2             neraya neraya neraya  v era levelthala   \n",
              "3   wow thavala sema masspadam oru pundaikum aagathu   \n",
              "4   andha 19 k unlike panavangaluku kolandha pora...   \n",
              "\n",
              "                                    comment_tokenied  \\\n",
              "0       [ this movei is just like  ellam avan seyal]   \n",
              "1  [ padam vanthathum 13k dislike pottavaga yella...   \n",
              "2          [ neraya neraya neraya  v era levelthala]   \n",
              "3  [ wow thavala sema masspadam oru pundaikum aag...   \n",
              "4  [ andha 19 k unlike panavangaluku kolandha por...   \n",
              "\n",
              "                                        no_stopwords  \\\n",
              "0       [ this movei is just like  ellam avan seyal]   \n",
              "1  [ padam vanthathum 13k dislike pottavaga yella...   \n",
              "2          [ neraya neraya neraya  v era levelthala]   \n",
              "3  [ wow thavala sema masspadam oru pundaikum aag...   \n",
              "4  [ andha 19 k unlike panavangaluku kolandha por...   \n",
              "\n",
              "                                     comment_stemmed  \\\n",
              "0         [ this movei is just like  ellam avan sey]   \n",
              "1  [ padam vanthathum 13k dislike pottavaga yella...   \n",
              "2          [ neraya neraya neraya  v era levelthala]   \n",
              "3  [ wow thavala sema masspadam oru pundaikum aag...   \n",
              "4  [ andha 19 k unlike panavangaluku kolandha por...   \n",
              "\n",
              "                                  comment_lemmatized  \\\n",
              "0       [ this movei is just like  ellam avan seyal]   \n",
              "1  [ padam vanthathum 13k dislike pottavaga yella...   \n",
              "2          [ neraya neraya neraya  v era levelthala]   \n",
              "3  [ wow thavala sema masspadam oru pundaikum aag...   \n",
              "4  [ andha 19 k unlike panavangaluku kolandha por...   \n",
              "\n",
              "                              comment_lemmatized_new  \n",
              "0          this movei is just like  ellam avan seyal  \n",
              "1   padam vanthathum 13k dislike pottavaga yellam...  \n",
              "2             neraya neraya neraya  v era levelthala  \n",
              "3   wow thavala sema masspadam oru pundaikum aagathu  \n",
              "4   andha 19 k unlike panavangaluku kolandha pora...  "
            ],
            "text/html": [
              "\n",
              "  <div id=\"df-c44f7a25-17f6-41fc-bd7f-8ca7abd03ba2\">\n",
              "    <div class=\"colab-df-container\">\n",
              "      <div>\n",
              "<style scoped>\n",
              "    .dataframe tbody tr th:only-of-type {\n",
              "        vertical-align: middle;\n",
              "    }\n",
              "\n",
              "    .dataframe tbody tr th {\n",
              "        vertical-align: top;\n",
              "    }\n",
              "\n",
              "    .dataframe thead th {\n",
              "        text-align: right;\n",
              "    }\n",
              "</style>\n",
              "<table border=\"1\" class=\"dataframe\">\n",
              "  <thead>\n",
              "    <tr style=\"text-align: right;\">\n",
              "      <th></th>\n",
              "      <th>sentiment</th>\n",
              "      <th>comment</th>\n",
              "      <th>clean_comment</th>\n",
              "      <th>comment_lower</th>\n",
              "      <th>comment_tokenied</th>\n",
              "      <th>no_stopwords</th>\n",
              "      <th>comment_stemmed</th>\n",
              "      <th>comment_lemmatized</th>\n",
              "      <th>comment_lemmatized_new</th>\n",
              "    </tr>\n",
              "  </thead>\n",
              "  <tbody>\n",
              "    <tr>\n",
              "      <th>0</th>\n",
              "      <td>0</td>\n",
              "      <td>This movei is just like  ellam avan seyal</td>\n",
              "      <td>This movei is just like  ellam avan seyal</td>\n",
              "      <td>this movei is just like  ellam avan seyal</td>\n",
              "      <td>[ this movei is just like  ellam avan seyal]</td>\n",
              "      <td>[ this movei is just like  ellam avan seyal]</td>\n",
              "      <td>[ this movei is just like  ellam avan sey]</td>\n",
              "      <td>[ this movei is just like  ellam avan seyal]</td>\n",
              "      <td>this movei is just like  ellam avan seyal</td>\n",
              "    </tr>\n",
              "    <tr>\n",
              "      <th>1</th>\n",
              "      <td>1</td>\n",
              "      <td>Padam vanthathum 13k dislike pottavaga yellam...</td>\n",
              "      <td>Padam vanthathum 13k dislike pottavaga yellam...</td>\n",
              "      <td>padam vanthathum 13k dislike pottavaga yellam...</td>\n",
              "      <td>[ padam vanthathum 13k dislike pottavaga yella...</td>\n",
              "      <td>[ padam vanthathum 13k dislike pottavaga yella...</td>\n",
              "      <td>[ padam vanthathum 13k dislike pottavaga yella...</td>\n",
              "      <td>[ padam vanthathum 13k dislike pottavaga yella...</td>\n",
              "      <td>padam vanthathum 13k dislike pottavaga yellam...</td>\n",
              "    </tr>\n",
              "    <tr>\n",
              "      <th>2</th>\n",
              "      <td>1</td>\n",
              "      <td>Neraya neraya neraya... ... V era level...thala</td>\n",
              "      <td>Neraya neraya neraya  V era levelthala</td>\n",
              "      <td>neraya neraya neraya  v era levelthala</td>\n",
              "      <td>[ neraya neraya neraya  v era levelthala]</td>\n",
              "      <td>[ neraya neraya neraya  v era levelthala]</td>\n",
              "      <td>[ neraya neraya neraya  v era levelthala]</td>\n",
              "      <td>[ neraya neraya neraya  v era levelthala]</td>\n",
              "      <td>neraya neraya neraya  v era levelthala</td>\n",
              "    </tr>\n",
              "    <tr>\n",
              "      <th>3</th>\n",
              "      <td>1</td>\n",
              "      <td>wow thavala sema mass....padam oru pundaikum ...</td>\n",
              "      <td>wow thavala sema masspadam oru pundaikum aagathu</td>\n",
              "      <td>wow thavala sema masspadam oru pundaikum aagathu</td>\n",
              "      <td>[ wow thavala sema masspadam oru pundaikum aag...</td>\n",
              "      <td>[ wow thavala sema masspadam oru pundaikum aag...</td>\n",
              "      <td>[ wow thavala sema masspadam oru pundaikum aag...</td>\n",
              "      <td>[ wow thavala sema masspadam oru pundaikum aag...</td>\n",
              "      <td>wow thavala sema masspadam oru pundaikum aagathu</td>\n",
              "    </tr>\n",
              "    <tr>\n",
              "      <th>4</th>\n",
              "      <td>0</td>\n",
              "      <td>Andha 19 k unlike panavangaluku kolandha pora...</td>\n",
              "      <td>Andha 19 k unlike panavangaluku kolandha pora...</td>\n",
              "      <td>andha 19 k unlike panavangaluku kolandha pora...</td>\n",
              "      <td>[ andha 19 k unlike panavangaluku kolandha por...</td>\n",
              "      <td>[ andha 19 k unlike panavangaluku kolandha por...</td>\n",
              "      <td>[ andha 19 k unlike panavangaluku kolandha por...</td>\n",
              "      <td>[ andha 19 k unlike panavangaluku kolandha por...</td>\n",
              "      <td>andha 19 k unlike panavangaluku kolandha pora...</td>\n",
              "    </tr>\n",
              "  </tbody>\n",
              "</table>\n",
              "</div>\n",
              "      <button class=\"colab-df-convert\" onclick=\"convertToInteractive('df-c44f7a25-17f6-41fc-bd7f-8ca7abd03ba2')\"\n",
              "              title=\"Convert this dataframe to an interactive table.\"\n",
              "              style=\"display:none;\">\n",
              "        \n",
              "  <svg xmlns=\"http://www.w3.org/2000/svg\" height=\"24px\"viewBox=\"0 0 24 24\"\n",
              "       width=\"24px\">\n",
              "    <path d=\"M0 0h24v24H0V0z\" fill=\"none\"/>\n",
              "    <path d=\"M18.56 5.44l.94 2.06.94-2.06 2.06-.94-2.06-.94-.94-2.06-.94 2.06-2.06.94zm-11 1L8.5 8.5l.94-2.06 2.06-.94-2.06-.94L8.5 2.5l-.94 2.06-2.06.94zm10 10l.94 2.06.94-2.06 2.06-.94-2.06-.94-.94-2.06-.94 2.06-2.06.94z\"/><path d=\"M17.41 7.96l-1.37-1.37c-.4-.4-.92-.59-1.43-.59-.52 0-1.04.2-1.43.59L10.3 9.45l-7.72 7.72c-.78.78-.78 2.05 0 2.83L4 21.41c.39.39.9.59 1.41.59.51 0 1.02-.2 1.41-.59l7.78-7.78 2.81-2.81c.8-.78.8-2.07 0-2.86zM5.41 20L4 18.59l7.72-7.72 1.47 1.35L5.41 20z\"/>\n",
              "  </svg>\n",
              "      </button>\n",
              "      \n",
              "  <style>\n",
              "    .colab-df-container {\n",
              "      display:flex;\n",
              "      flex-wrap:wrap;\n",
              "      gap: 12px;\n",
              "    }\n",
              "\n",
              "    .colab-df-convert {\n",
              "      background-color: #E8F0FE;\n",
              "      border: none;\n",
              "      border-radius: 50%;\n",
              "      cursor: pointer;\n",
              "      display: none;\n",
              "      fill: #1967D2;\n",
              "      height: 32px;\n",
              "      padding: 0 0 0 0;\n",
              "      width: 32px;\n",
              "    }\n",
              "\n",
              "    .colab-df-convert:hover {\n",
              "      background-color: #E2EBFA;\n",
              "      box-shadow: 0px 1px 2px rgba(60, 64, 67, 0.3), 0px 1px 3px 1px rgba(60, 64, 67, 0.15);\n",
              "      fill: #174EA6;\n",
              "    }\n",
              "\n",
              "    [theme=dark] .colab-df-convert {\n",
              "      background-color: #3B4455;\n",
              "      fill: #D2E3FC;\n",
              "    }\n",
              "\n",
              "    [theme=dark] .colab-df-convert:hover {\n",
              "      background-color: #434B5C;\n",
              "      box-shadow: 0px 1px 3px 1px rgba(0, 0, 0, 0.15);\n",
              "      filter: drop-shadow(0px 1px 2px rgba(0, 0, 0, 0.3));\n",
              "      fill: #FFFFFF;\n",
              "    }\n",
              "  </style>\n",
              "\n",
              "      <script>\n",
              "        const buttonEl =\n",
              "          document.querySelector('#df-c44f7a25-17f6-41fc-bd7f-8ca7abd03ba2 button.colab-df-convert');\n",
              "        buttonEl.style.display =\n",
              "          google.colab.kernel.accessAllowed ? 'block' : 'none';\n",
              "\n",
              "        async function convertToInteractive(key) {\n",
              "          const element = document.querySelector('#df-c44f7a25-17f6-41fc-bd7f-8ca7abd03ba2');\n",
              "          const dataTable =\n",
              "            await google.colab.kernel.invokeFunction('convertToInteractive',\n",
              "                                                     [key], {});\n",
              "          if (!dataTable) return;\n",
              "\n",
              "          const docLinkHtml = 'Like what you see? Visit the ' +\n",
              "            '<a target=\"_blank\" href=https://colab.research.google.com/notebooks/data_table.ipynb>data table notebook</a>'\n",
              "            + ' to learn more about interactive tables.';\n",
              "          element.innerHTML = '';\n",
              "          dataTable['output_type'] = 'display_data';\n",
              "          await google.colab.output.renderOutput(dataTable, element);\n",
              "          const docLink = document.createElement('div');\n",
              "          docLink.innerHTML = docLinkHtml;\n",
              "          element.appendChild(docLink);\n",
              "        }\n",
              "      </script>\n",
              "    </div>\n",
              "  </div>\n",
              "  "
            ]
          },
          "metadata": {},
          "execution_count": 32
        }
      ]
    },
    {
      "cell_type": "markdown",
      "source": [
        "# using the train test split function"
      ],
      "metadata": {
        "id": "zpV--MVaqZ5G"
      }
    },
    {
      "cell_type": "code",
      "source": [
        "X_train, X_test, y_train, y_test = train_test_split(X,y ,\n",
        "                                   random_state=104, \n",
        "                                   test_size=0.25, \n",
        "                                   shuffle=True)"
      ],
      "metadata": {
        "id": "bar8cMpbqapm"
      },
      "execution_count": 54,
      "outputs": []
    },
    {
      "cell_type": "markdown",
      "source": [
        "# Extracting features from the training data using a sparse vectorizer\n"
      ],
      "metadata": {
        "id": "FwV5e3VeqnNd"
      }
    },
    {
      "cell_type": "code",
      "source": [
        "vectorizer = TfidfVectorizer(\n",
        "    sublinear_tf=True, max_df=0.5, min_df=5, stop_words=\"english\")\n",
        "\n",
        "X_train = vectorizer.fit_transform(X_train)\n",
        "X_test = vectorizer.transform(X_test)\n",
        "print(y_train[156])\n",
        "\n"
      ],
      "metadata": {
        "id": "utTX8RIwqoUN",
        "outputId": "3a0d7ef6-dd09-4fb8-f236-48598682fbc4",
        "colab": {
          "base_uri": "https://localhost:8080/"
        }
      },
      "execution_count": 55,
      "outputs": [
        {
          "output_type": "stream",
          "name": "stdout",
          "text": [
            "1 \n"
          ]
        }
      ]
    },
    {
      "cell_type": "markdown",
      "source": [
        "#Creating Helper Functions\n"
      ],
      "metadata": {
        "id": "JLrRq79lz9nm"
      }
    },
    {
      "cell_type": "code",
      "source": [
        "# Helper function for merging new history objects with older ones\n",
        "def append_history(losses, val_losses, accuracy, val_accuracy, history):\n",
        "    losses = losses + history.history[\"loss\"]\n",
        "    val_losses = val_losses + history.history[\"val_loss\"]\n",
        "    accuracy = accuracy + history.history[\"binary_accuracy\"]\n",
        "    val_accuracy = val_accuracy + history.history[\"val_binary_accuracy\"]\n",
        "    return losses, val_losses, accuracy, val_accuracy\n",
        "\n",
        "\n",
        "# Plotter function\n",
        "def plot_history(losses, val_losses, accuracies, val_accuracies):\n",
        "    plt.plot(losses)\n",
        "    plt.plot(val_losses)\n",
        "    plt.legend([\"train_loss\", \"val_loss\"])\n",
        "    plt.xlabel(\"Epochs\")\n",
        "    plt.ylabel(\"Loss\")\n",
        "    plt.show()\n",
        "\n",
        "    plt.plot(accuracies)\n",
        "    plt.plot(val_accuracies)\n",
        "    plt.legend([\"train_accuracy\", \"val_accuracy\"])\n",
        "    plt.xlabel(\"Epochs\")\n",
        "    plt.ylabel(\"Accuracy\")\n",
        "    plt.show()"
      ],
      "metadata": {
        "id": "MVGfvgIwz_H4"
      },
      "execution_count": 35,
      "outputs": []
    },
    {
      "cell_type": "markdown",
      "source": [
        "#Creating the Model\n"
      ],
      "metadata": {
        "id": "XsxXko7m0DM6"
      }
    },
    {
      "cell_type": "code",
      "source": [
        "def create_model():\n",
        "    model = keras.models.Sequential(\n",
        "        [\n",
        "            layers.Input(shape=(150,)),\n",
        "            layers.Embedding(input_dim=3000, output_dim=128),\n",
        "            layers.Bidirectional(layers.LSTM(32, return_sequences=True)),\n",
        "            layers.GlobalMaxPool1D(),\n",
        "            layers.Dense(20, activation=\"relu\"),\n",
        "            layers.Dropout(0.5),\n",
        "            layers.Dense(1, activation=\"sigmoid\"),\n",
        "        ]\n",
        "    )\n",
        "    model.summary()\n",
        "    return model\n",
        "\n"
      ],
      "metadata": {
        "id": "XHc978so0Fk1"
      },
      "execution_count": 65,
      "outputs": []
    },
    {
      "cell_type": "markdown",
      "source": [
        "#Training on the entire dataset\n"
      ],
      "metadata": {
        "id": "jaWFrsC-0O2y"
      }
    },
    {
      "cell_type": "code",
      "source": [
        "def train_full_model():\n",
        "    model = create_model()\n",
        "    model.compile(\n",
        "        loss=\"binary_crossentropy\",\n",
        "        optimizer=\"rmsprop\",\n",
        "        metrics=[\n",
        "            keras.metrics.BinaryAccuracy(),\n",
        "            keras.metrics.FalseNegatives(),\n",
        "            keras.metrics.FalsePositives(),\n",
        "        ],\n",
        "    )\n",
        "\n",
        "    # We will save the best model at every epoch and load the best one for evaluation on the test set\n",
        "    history = model.fit(\n",
        "        X_train,\n",
        "        y_train,\n",
        "        epochs=20,\n",
        "        validation_data=(X_test, y_test),\n",
        "        callbacks=[\n",
        "            keras.callbacks.EarlyStopping(patience=4, verbose=1),\n",
        "            keras.callbacks.ModelCheckpoint(\n",
        "                \"FullModelCheckpoint.h5\", verbose=1, save_best_only=True\n",
        "            ),\n",
        "        ],\n",
        "    )\n",
        "\n",
        "    # Plot history\n",
        "    plot_history(\n",
        "        history.history[\"loss\"],\n",
        "        history.history[\"val_loss\"],\n",
        "        history.history[\"binary_accuracy\"],\n",
        "        history.history[\"val_binary_accuracy\"],\n",
        "    )\n",
        "\n",
        "    # Loading the best checkpoint\n",
        "    model = keras.models.load_model(\"FullModelCheckpoint.h5\")\n",
        "\n",
        "    print(\"-\" * 100)\n",
        "    print(\n",
        "        \"Test set evaluation: \",\n",
        "        model.evaluate(X_test, y_test, verbose=0, return_dict=True),\n",
        "    )\n",
        "    print(\"-\" * 100)\n",
        "    return model\n",
        "\n",
        "train_full_model()\n"
      ],
      "metadata": {
        "id": "_XMIqvkl0R6v",
        "outputId": "2ef342dc-0838-49b2-ff75-f0b4e72e8035",
        "colab": {
          "base_uri": "https://localhost:8080/",
          "height": 1000
        }
      },
      "execution_count": 66,
      "outputs": [
        {
          "output_type": "stream",
          "name": "stdout",
          "text": [
            "Model: \"sequential_7\"\n",
            "_________________________________________________________________\n",
            " Layer (type)                Output Shape              Param #   \n",
            "=================================================================\n",
            " embedding_8 (Embedding)     (None, 150, 128)          384000    \n",
            "                                                                 \n",
            " bidirectional_7 (Bidirectio  (None, 150, 64)          41216     \n",
            " nal)                                                            \n",
            "                                                                 \n",
            " global_max_pooling1d_7 (Glo  (None, 64)               0         \n",
            " balMaxPooling1D)                                                \n",
            "                                                                 \n",
            " dense_14 (Dense)            (None, 20)                1300      \n",
            "                                                                 \n",
            " dropout_7 (Dropout)         (None, 20)                0         \n",
            "                                                                 \n",
            " dense_15 (Dense)            (None, 1)                 21        \n",
            "                                                                 \n",
            "=================================================================\n",
            "Total params: 426,537\n",
            "Trainable params: 426,537\n",
            "Non-trainable params: 0\n",
            "_________________________________________________________________\n"
          ]
        },
        {
          "output_type": "stream",
          "name": "stderr",
          "text": [
            "WARNING:tensorflow:Keras is training/fitting/evaluating on array-like data. Keras may not be optimized for this format, so if your input data format is supported by TensorFlow I/O (https://github.com/tensorflow/io) we recommend using that to load a Dataset instead.\n"
          ]
        },
        {
          "output_type": "stream",
          "name": "stdout",
          "text": [
            "Epoch 1/20\n"
          ]
        },
        {
          "output_type": "error",
          "ename": "ValueError",
          "evalue": "ignored",
          "traceback": [
            "\u001b[0;31m---------------------------------------------------------------------------\u001b[0m",
            "\u001b[0;31mValueError\u001b[0m                                Traceback (most recent call last)",
            "\u001b[0;32m<ipython-input-66-e7728b842bf7>\u001b[0m in \u001b[0;36m<module>\u001b[0;34m\u001b[0m\n\u001b[1;32m     44\u001b[0m     \u001b[0;32mreturn\u001b[0m \u001b[0mmodel\u001b[0m\u001b[0;34m\u001b[0m\u001b[0;34m\u001b[0m\u001b[0m\n\u001b[1;32m     45\u001b[0m \u001b[0;34m\u001b[0m\u001b[0m\n\u001b[0;32m---> 46\u001b[0;31m \u001b[0mtrain_full_model\u001b[0m\u001b[0;34m(\u001b[0m\u001b[0;34m)\u001b[0m\u001b[0;34m\u001b[0m\u001b[0;34m\u001b[0m\u001b[0m\n\u001b[0m",
            "\u001b[0;32m<ipython-input-66-e7728b842bf7>\u001b[0m in \u001b[0;36mtrain_full_model\u001b[0;34m()\u001b[0m\n\u001b[1;32m     12\u001b[0m \u001b[0;34m\u001b[0m\u001b[0m\n\u001b[1;32m     13\u001b[0m     \u001b[0;31m# We will save the best model at every epoch and load the best one for evaluation on the test set\u001b[0m\u001b[0;34m\u001b[0m\u001b[0;34m\u001b[0m\u001b[0;34m\u001b[0m\u001b[0m\n\u001b[0;32m---> 14\u001b[0;31m     history = model.fit(\n\u001b[0m\u001b[1;32m     15\u001b[0m         \u001b[0mX_train\u001b[0m\u001b[0;34m,\u001b[0m\u001b[0;34m\u001b[0m\u001b[0;34m\u001b[0m\u001b[0m\n\u001b[1;32m     16\u001b[0m         \u001b[0my_train\u001b[0m\u001b[0;34m,\u001b[0m\u001b[0;34m\u001b[0m\u001b[0;34m\u001b[0m\u001b[0m\n",
            "\u001b[0;32m/usr/local/lib/python3.8/dist-packages/keras/utils/traceback_utils.py\u001b[0m in \u001b[0;36merror_handler\u001b[0;34m(*args, **kwargs)\u001b[0m\n\u001b[1;32m     65\u001b[0m     \u001b[0;32mexcept\u001b[0m \u001b[0mException\u001b[0m \u001b[0;32mas\u001b[0m \u001b[0me\u001b[0m\u001b[0;34m:\u001b[0m  \u001b[0;31m# pylint: disable=broad-except\u001b[0m\u001b[0;34m\u001b[0m\u001b[0;34m\u001b[0m\u001b[0m\n\u001b[1;32m     66\u001b[0m       \u001b[0mfiltered_tb\u001b[0m \u001b[0;34m=\u001b[0m \u001b[0m_process_traceback_frames\u001b[0m\u001b[0;34m(\u001b[0m\u001b[0me\u001b[0m\u001b[0;34m.\u001b[0m\u001b[0m__traceback__\u001b[0m\u001b[0;34m)\u001b[0m\u001b[0;34m\u001b[0m\u001b[0;34m\u001b[0m\u001b[0m\n\u001b[0;32m---> 67\u001b[0;31m       \u001b[0;32mraise\u001b[0m \u001b[0me\u001b[0m\u001b[0;34m.\u001b[0m\u001b[0mwith_traceback\u001b[0m\u001b[0;34m(\u001b[0m\u001b[0mfiltered_tb\u001b[0m\u001b[0;34m)\u001b[0m \u001b[0;32mfrom\u001b[0m \u001b[0;32mNone\u001b[0m\u001b[0;34m\u001b[0m\u001b[0;34m\u001b[0m\u001b[0m\n\u001b[0m\u001b[1;32m     68\u001b[0m     \u001b[0;32mfinally\u001b[0m\u001b[0;34m:\u001b[0m\u001b[0;34m\u001b[0m\u001b[0;34m\u001b[0m\u001b[0m\n\u001b[1;32m     69\u001b[0m       \u001b[0;32mdel\u001b[0m \u001b[0mfiltered_tb\u001b[0m\u001b[0;34m\u001b[0m\u001b[0;34m\u001b[0m\u001b[0m\n",
            "\u001b[0;32m/usr/local/lib/python3.8/dist-packages/keras/engine/training.py\u001b[0m in \u001b[0;36mtf__train_function\u001b[0;34m(iterator)\u001b[0m\n\u001b[1;32m     13\u001b[0m                 \u001b[0;32mtry\u001b[0m\u001b[0;34m:\u001b[0m\u001b[0;34m\u001b[0m\u001b[0;34m\u001b[0m\u001b[0m\n\u001b[1;32m     14\u001b[0m                     \u001b[0mdo_return\u001b[0m \u001b[0;34m=\u001b[0m \u001b[0;32mTrue\u001b[0m\u001b[0;34m\u001b[0m\u001b[0;34m\u001b[0m\u001b[0m\n\u001b[0;32m---> 15\u001b[0;31m                     \u001b[0mretval_\u001b[0m \u001b[0;34m=\u001b[0m \u001b[0mag__\u001b[0m\u001b[0;34m.\u001b[0m\u001b[0mconverted_call\u001b[0m\u001b[0;34m(\u001b[0m\u001b[0mag__\u001b[0m\u001b[0;34m.\u001b[0m\u001b[0mld\u001b[0m\u001b[0;34m(\u001b[0m\u001b[0mstep_function\u001b[0m\u001b[0;34m)\u001b[0m\u001b[0;34m,\u001b[0m \u001b[0;34m(\u001b[0m\u001b[0mag__\u001b[0m\u001b[0;34m.\u001b[0m\u001b[0mld\u001b[0m\u001b[0;34m(\u001b[0m\u001b[0mself\u001b[0m\u001b[0;34m)\u001b[0m\u001b[0;34m,\u001b[0m \u001b[0mag__\u001b[0m\u001b[0;34m.\u001b[0m\u001b[0mld\u001b[0m\u001b[0;34m(\u001b[0m\u001b[0miterator\u001b[0m\u001b[0;34m)\u001b[0m\u001b[0;34m)\u001b[0m\u001b[0;34m,\u001b[0m \u001b[0;32mNone\u001b[0m\u001b[0;34m,\u001b[0m \u001b[0mfscope\u001b[0m\u001b[0;34m)\u001b[0m\u001b[0;34m\u001b[0m\u001b[0;34m\u001b[0m\u001b[0m\n\u001b[0m\u001b[1;32m     16\u001b[0m                 \u001b[0;32mexcept\u001b[0m\u001b[0;34m:\u001b[0m\u001b[0;34m\u001b[0m\u001b[0;34m\u001b[0m\u001b[0m\n\u001b[1;32m     17\u001b[0m                     \u001b[0mdo_return\u001b[0m \u001b[0;34m=\u001b[0m \u001b[0;32mFalse\u001b[0m\u001b[0;34m\u001b[0m\u001b[0;34m\u001b[0m\u001b[0m\n",
            "\u001b[0;31mValueError\u001b[0m: in user code:\n\n    File \"/usr/local/lib/python3.8/dist-packages/keras/engine/training.py\", line 1051, in train_function  *\n        return step_function(self, iterator)\n    File \"/usr/local/lib/python3.8/dist-packages/keras/engine/training.py\", line 1040, in step_function  **\n        outputs = model.distribute_strategy.run(run_step, args=(data,))\n    File \"/usr/local/lib/python3.8/dist-packages/keras/engine/training.py\", line 1030, in run_step  **\n        outputs = model.train_step(data)\n    File \"/usr/local/lib/python3.8/dist-packages/keras/engine/training.py\", line 889, in train_step\n        y_pred = self(x, training=True)\n    File \"/usr/local/lib/python3.8/dist-packages/keras/utils/traceback_utils.py\", line 67, in error_handler\n        raise e.with_traceback(filtered_tb) from None\n    File \"/usr/local/lib/python3.8/dist-packages/keras/engine/input_spec.py\", line 264, in assert_input_compatibility\n        raise ValueError(f'Input {input_index} of layer \"{layer_name}\" is '\n\n    ValueError: Input 0 of layer \"sequential_7\" is incompatible with the layer: expected shape=(None, 150), found shape=(None, 2082)\n"
          ]
        }
      ]
    }
  ],
  "metadata": {
    "colab": {
      "name": "Welcome To Colaboratory",
      "provenance": []
    },
    "kernelspec": {
      "display_name": "Python 3",
      "name": "python3"
    },
    "accelerator": "GPU",
    "gpuClass": "standard"
  },
  "nbformat": 4,
  "nbformat_minor": 0
}